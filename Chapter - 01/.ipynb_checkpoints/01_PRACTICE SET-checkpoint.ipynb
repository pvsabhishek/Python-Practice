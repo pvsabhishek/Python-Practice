{
 "cells": [
  {
   "cell_type": "markdown",
   "id": "713a2900",
   "metadata": {},
   "source": [
    "##### Q1. WRITE A PROGRAM TO PRINT TWINKLE TWINKLE LITTLE STAR POEM IN PYTHON"
   ]
  },
  {
   "cell_type": "code",
   "execution_count": 14,
   "id": "04fb8ff2",
   "metadata": {},
   "outputs": [
    {
     "name": "stdout",
     "output_type": "stream",
     "text": [
      "Twinkle, twinkle, little star\n",
      "How I wonder what you are\n",
      "Up above the world so high\n",
      "Like a diamond in the sky\n",
      "\n",
      "Twinkle, twinkle, little star\n",
      "How I wonder what you are\n",
      "Up above the world so high\n",
      "Like a diamond in the sky\n"
     ]
    }
   ],
   "source": [
    "print(\"Twinkle, twinkle, little star\")\n",
    "print(\"How I wonder what you are\")\n",
    "print(\"Up above the world so high\")\n",
    "print(\"Like a diamond in the sky\")\n",
    "\n",
    "# OR\n",
    "print(\"\") # for space\n",
    "\n",
    "print(\"\"\"Twinkle, twinkle, little star\n",
    "How I wonder what you are\n",
    "Up above the world so high\n",
    "Like a diamond in the sky\"\"\")"
   ]
  },
  {
   "cell_type": "markdown",
   "id": "9487d332",
   "metadata": {},
   "source": [
    "###### Q2. USE REPL AND PRINT THE TABLE OF 5 USING IT"
   ]
  },
  {
   "cell_type": "code",
   "execution_count": 8,
   "id": "5ad45ee3",
   "metadata": {},
   "outputs": [
    {
     "name": "stdout",
     "output_type": "stream",
     "text": [
      "0\n",
      "5\n",
      "10\n",
      "15\n",
      "20\n",
      "25\n",
      "30\n",
      "35\n",
      "40\n",
      "45\n",
      "50\n"
     ]
    }
   ],
   "source": [
    "a = 5;\n",
    "\n",
    "for i in range(11):\n",
    "    table = a * i\n",
    "    print(table)\n",
    "    "
   ]
  },
  {
   "cell_type": "markdown",
   "id": "514d868c",
   "metadata": {},
   "source": [
    "   ##### Q3. INSTALL AN EXTERNAL MODULE AND USE IT TO PERFORM AN OPERATION FOR YOUR INTREST."
   ]
  },
  {
   "cell_type": "code",
   "execution_count": 17,
   "id": "a1c2d458",
   "metadata": {},
   "outputs": [
    {
     "name": "stdout",
     "output_type": "stream",
     "text": [
      "Requirement already satisfied: playsound in c:\\users\\legion\\anaconda3\\lib\\site-packages (1.3.0)\n",
      "Note: you may need to restart the kernel to use updated packages.\n"
     ]
    }
   ],
   "source": [
    "pip install playsound"
   ]
  },
  {
   "cell_type": "code",
   "execution_count": null,
   "id": "5ea46a5a",
   "metadata": {},
   "outputs": [],
   "source": [
    "from playsound import playsound\n",
    "\n",
    "playsound(\"C:\\\\Users\\\\LEGION\\\\Desktop\\\\python\\\\Untitled Folder\\\\Iron Man Armored Adventures - Full (1).mp3\")"
   ]
  },
  {
   "cell_type": "markdown",
   "id": "43cb9433",
   "metadata": {},
   "source": [
    "##### Q4. WRITE A PROGRAM  TO PRINT THE CONTENTS OF A DIRECTORY  USING  OS MODULE. SEARCH ONLINE FOR ONLINE FUNCTION WHICH DOES THAT"
   ]
  },
  {
   "cell_type": "code",
   "execution_count": 26,
   "id": "5dece0e7",
   "metadata": {},
   "outputs": [
    {
     "name": "stdout",
     "output_type": "stream",
     "text": [
      "['.ipynb_checkpoints', '01_hello.ipynb', '01_PRACTICE SET.ipynb', 'Iron Man Armored Adventures - Full (1).mp3']\n"
     ]
    }
   ],
   "source": [
    "import os\n",
    "\n",
    "path = \"C:\\\\Users\\\\LEGION\\\\Desktop\\\\python\\\\Untitled Folder\"\n",
    "dir_list = os.listdir(path)\n",
    "\n",
    "#print(\"files and directories in '\",path , \"\"' : \")\n",
    "\n",
    "print(dir_list)"
   ]
  },
  {
   "cell_type": "markdown",
   "id": "07e10941",
   "metadata": {},
   "source": [
    "##### Q5. LABEL THE PROGRAM WRITTEN IN PROBLEM 4 WITH COMMENTS."
   ]
  },
  {
   "cell_type": "code",
   "execution_count": 27,
   "id": "1b663800",
   "metadata": {},
   "outputs": [
    {
     "name": "stdout",
     "output_type": "stream",
     "text": [
      "['.ipynb_checkpoints', '01_hello.ipynb', '01_PRACTICE SET.ipynb', 'Iron Man Armored Adventures - Full (1).mp3']\n"
     ]
    }
   ],
   "source": [
    "import os   # IMPORTING OS FUNCTION LIBRARY\n",
    "\n",
    "path = \"C:\\\\Users\\\\LEGION\\\\Desktop\\\\python\\\\Untitled Folder\"  # LOCATE YOUR PATH THAT U WANTED\n",
    "dir_list = os.listdir(path) # DIR_LIST IS FUNCTION WHICH CHECKS YOUR LOCATION ON YOUR OS.\n",
    "\n",
    "#print(\"files and directories in '\",path , \"\"' : \")\n",
    "\n",
    "print(dir_list) # SIMPLY PRINT DIR_LIST"
   ]
  },
  {
   "cell_type": "code",
   "execution_count": null,
   "id": "00df82e5",
   "metadata": {},
   "outputs": [],
   "source": []
  }
 ],
 "metadata": {
  "kernelspec": {
   "display_name": "Python 3 (ipykernel)",
   "language": "python",
   "name": "python3"
  },
  "language_info": {
   "codemirror_mode": {
    "name": "ipython",
    "version": 3
   },
   "file_extension": ".py",
   "mimetype": "text/x-python",
   "name": "python",
   "nbconvert_exporter": "python",
   "pygments_lexer": "ipython3",
   "version": "3.9.7"
  }
 },
 "nbformat": 4,
 "nbformat_minor": 5
}
