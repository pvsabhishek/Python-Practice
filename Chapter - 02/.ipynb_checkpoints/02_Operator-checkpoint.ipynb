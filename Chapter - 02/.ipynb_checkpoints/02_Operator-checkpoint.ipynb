{
 "cells": [
  {
   "cell_type": "code",
   "execution_count": 8,
   "id": "9d169f4f",
   "metadata": {},
   "outputs": [
    {
     "name": "stdout",
     "output_type": "stream",
     "text": [
      "the value of 3 + 4 is 7\n",
      "the value of 3 + 4 is -1\n",
      "the value of 3 + 4 is 3\n",
      "the value of 3 + 4 is 12\n",
      "the value of 3 + 4 is 0.75\n"
     ]
    }
   ],
   "source": [
    "a = 3\n",
    "b = 4\n",
    "\n",
    "# Various Operators\n",
    "print(\"the value of 3 + 4 is\", 3 + 4)\n",
    "print(\"the value of 3 + 4 is\", 3 - 4)\n",
    "print(\"the value of 3 + 4 is\", 3 % 4)\n",
    "print(\"the value of 3 + 4 is\", 3 * 4)\n",
    "print(\"the value of 3 + 4 is\", 3 / 4)\n",
    "\n"
   ]
  },
  {
   "cell_type": "code",
   "execution_count": 12,
   "id": "703dd4ed",
   "metadata": {},
   "outputs": [
    {
     "name": "stdout",
     "output_type": "stream",
     "text": [
      "30\n",
      "-15\n",
      "375\n",
      "1.0\n"
     ]
    }
   ],
   "source": [
    "# Arithmetic Operators\n",
    "a = 5\n",
    "b = 10\n",
    "c = 15\n",
    "d = 25\n",
    "\n",
    "a += 25\n",
    "b -= 25\n",
    "c *= 25\n",
    "d /= 25\n",
    "\n",
    "print(a)\n",
    "print(b)\n",
    "print(c)\n",
    "print(d)"
   ]
  },
  {
   "cell_type": "code",
   "execution_count": 14,
   "id": "a496bc09",
   "metadata": {},
   "outputs": [
    {
     "name": "stdout",
     "output_type": "stream",
     "text": [
      "False\n",
      "True\n",
      "True\n",
      "False\n",
      "False\n",
      "True\n"
     ]
    }
   ],
   "source": [
    "# Comparison Operators\n",
    "\n",
    "a = (14 <= 7)\n",
    "b = (14 >= 7)\n",
    "c = (14 > 7)\n",
    "d = (14 < 7)\n",
    "e = (14 == 7)\n",
    "f = (14 != 7)\n",
    "\n",
    "print(a)\n",
    "print(b)\n",
    "print(c)\n",
    "print(d)\n",
    "print(e)\n",
    "print(f)\n"
   ]
  },
  {
   "cell_type": "code",
   "execution_count": null,
   "id": "e65d957b",
   "metadata": {},
   "outputs": [],
   "source": []
  }
 ],
 "metadata": {
  "kernelspec": {
   "display_name": "Python 3 (ipykernel)",
   "language": "python",
   "name": "python3"
  },
  "language_info": {
   "codemirror_mode": {
    "name": "ipython",
    "version": 3
   },
   "file_extension": ".py",
   "mimetype": "text/x-python",
   "name": "python",
   "nbconvert_exporter": "python",
   "pygments_lexer": "ipython3",
   "version": "3.9.7"
  }
 },
 "nbformat": 4,
 "nbformat_minor": 5
}
