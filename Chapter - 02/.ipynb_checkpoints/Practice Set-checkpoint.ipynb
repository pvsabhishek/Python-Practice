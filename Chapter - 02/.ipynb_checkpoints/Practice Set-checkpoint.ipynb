{
 "cells": [
  {
   "cell_type": "markdown",
   "id": "8bbfa35c",
   "metadata": {},
   "source": [
    "##### Q1. Write a Program To add To Numbers ?"
   ]
  },
  {
   "cell_type": "code",
   "execution_count": 23,
   "id": "20352ab3",
   "metadata": {},
   "outputs": [
    {
     "name": "stdout",
     "output_type": "stream",
     "text": [
      "30\n"
     ]
    }
   ],
   "source": [
    "#Without giving input the program.\n",
    "a = 10 \n",
    "b = 20\n",
    "print(a + b)"
   ]
  },
  {
   "cell_type": "code",
   "execution_count": 24,
   "id": "02ee5f70",
   "metadata": {},
   "outputs": [
    {
     "name": "stdout",
     "output_type": "stream",
     "text": [
      "Enter Any Number 20\n",
      "Enter Any Number 30\n",
      "50\n"
     ]
    }
   ],
   "source": [
    "# With input in the program.\n",
    "a = input(\"Enter Any Number \")\n",
    "b = input(\"Enter Any Number \")\n",
    "print(int(a) + int(b))"
   ]
  },
  {
   "cell_type": "markdown",
   "id": "8b9be069",
   "metadata": {},
   "source": [
    "##### Q2. Write a Program To Find Reminder when a Number Is divided By Z ?"
   ]
  },
  {
   "cell_type": "code",
   "execution_count": 25,
   "id": "2d0cde09",
   "metadata": {},
   "outputs": [
    {
     "name": "stdout",
     "output_type": "stream",
     "text": [
      "10\n"
     ]
    }
   ],
   "source": [
    "#Without giving input the program.\n",
    "a = 10 \n",
    "b = 20\n",
    "print(a % b)"
   ]
  },
  {
   "cell_type": "code",
   "execution_count": 26,
   "id": "4f9e92f3",
   "metadata": {},
   "outputs": [
    {
     "name": "stdout",
     "output_type": "stream",
     "text": [
      "Enter Any Number 30\n",
      "Enter Any Number 20\n",
      "10\n"
     ]
    }
   ],
   "source": [
    "# With input in the program.\n",
    "a = input(\"Enter Any Number \")\n",
    "b = input(\"Enter Any Number \")\n",
    "print(int(a) % int(b))"
   ]
  },
  {
   "cell_type": "markdown",
   "id": "58f1c1d9",
   "metadata": {},
   "source": [
    "#####  Q3. Check The Type of the Variables Assigned Using Input() Function ?"
   ]
  },
  {
   "cell_type": "code",
   "execution_count": 4,
   "id": "9367fc21",
   "metadata": {},
   "outputs": [
    {
     "name": "stdout",
     "output_type": "stream",
     "text": [
      "Enter Any Number: 2\n",
      "Enter Any Number: 2\n",
      "<class 'int'>\n",
      "<class 'float'>\n"
     ]
    }
   ],
   "source": [
    "a = input(\"Enter Any Number: \")\n",
    "a = int(a)\n",
    "b = input(\"Enter Any Number: \")\n",
    "b = float(b)\n",
    "print(type(a))\n",
    "print(type(b))"
   ]
  },
  {
   "cell_type": "markdown",
   "id": "e7f88471",
   "metadata": {},
   "source": [
    "##### Q4. Use Comparsion Operator To Find Out Whether a Given Variable a is Greater than 'b' or not. EX :- a = 34, b = 80 ?"
   ]
  },
  {
   "cell_type": "code",
   "execution_count": 6,
   "id": "22d4653c",
   "metadata": {},
   "outputs": [
    {
     "name": "stdout",
     "output_type": "stream",
     "text": [
      "False\n"
     ]
    }
   ],
   "source": [
    "# without given input\n",
    "a = 34\n",
    "b = 80\n",
    "c = a > b\n",
    "print(c)"
   ]
  },
  {
   "cell_type": "code",
   "execution_count": 8,
   "id": "6d3458eb",
   "metadata": {},
   "outputs": [
    {
     "name": "stdout",
     "output_type": "stream",
     "text": [
      "Enter any Number: 14\n",
      "Enter any Number: 23\n",
      "False\n"
     ]
    }
   ],
   "source": [
    "# with giving input.\n",
    "a = input(\"Enter any Number: \")\n",
    "b = input(\"Enter any Number: \")\n",
    "c = a > b;\n",
    "print(c)\n"
   ]
  },
  {
   "cell_type": "markdown",
   "id": "313e77b6",
   "metadata": {},
   "source": [
    " ##### Q5. Write a Python Program To Find Average of two number enter by user ?"
   ]
  },
  {
   "cell_type": "code",
   "execution_count": 14,
   "id": "5f47e7cf",
   "metadata": {},
   "outputs": [
    {
     "name": "stdout",
     "output_type": "stream",
     "text": [
      "4.0\n"
     ]
    }
   ],
   "source": [
    "# without giving inputs \n",
    "a = 3\n",
    "b = 5\n",
    "c = (a + b) / 2\n",
    "print(c)"
   ]
  },
  {
   "cell_type": "code",
   "execution_count": 16,
   "id": "e186e6b6",
   "metadata": {},
   "outputs": [
    {
     "name": "stdout",
     "output_type": "stream",
     "text": [
      "Enter Any Number : 5\n",
      "Enter Any Number : 3\n",
      "4.0\n"
     ]
    }
   ],
   "source": [
    "# with giving inputs\n",
    "a = input(\"Enter Any Number : \")\n",
    "b = input(\"Enter Any Number : \")\n",
    "print((int(a) + int(b)) / 2)"
   ]
  },
  {
   "cell_type": "markdown",
   "id": "cdae7748",
   "metadata": {},
   "source": [
    "##### Q6. Write a program to calculate square of a number entered by user ?"
   ]
  },
  {
   "cell_type": "code",
   "execution_count": 17,
   "id": "4e7813ec",
   "metadata": {},
   "outputs": [
    {
     "name": "stdout",
     "output_type": "stream",
     "text": [
      "9\n"
     ]
    }
   ],
   "source": [
    "# without giving inputs \n",
    "a = 3\n",
    "print(a*a)"
   ]
  },
  {
   "cell_type": "code",
   "execution_count": 22,
   "id": "3db87255",
   "metadata": {},
   "outputs": [
    {
     "name": "stdout",
     "output_type": "stream",
     "text": [
      "Enter Any Number: 9\n",
      "81\n"
     ]
    }
   ],
   "source": [
    "# with giving inputs\n",
    "a = input(\"Enter Any Number: \")\n",
    "a = int(a) * int(a)              # here any number will get square by its \n",
    "print(a)"
   ]
  },
  {
   "cell_type": "markdown",
   "id": "47709119",
   "metadata": {},
   "source": [
    "##### note:- here anything written inside print() will be print as string. so to convert it we use format specifier to convert it"
   ]
  },
  {
   "cell_type": "code",
   "execution_count": null,
   "id": "ff03ff82",
   "metadata": {},
   "outputs": [],
   "source": []
  }
 ],
 "metadata": {
  "kernelspec": {
   "display_name": "Python 3 (ipykernel)",
   "language": "python",
   "name": "python3"
  },
  "language_info": {
   "codemirror_mode": {
    "name": "ipython",
    "version": 3
   },
   "file_extension": ".py",
   "mimetype": "text/x-python",
   "name": "python",
   "nbconvert_exporter": "python",
   "pygments_lexer": "ipython3",
   "version": "3.9.7"
  }
 },
 "nbformat": 4,
 "nbformat_minor": 5
}
