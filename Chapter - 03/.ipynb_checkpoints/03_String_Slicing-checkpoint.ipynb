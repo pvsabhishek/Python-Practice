{
 "cells": [
  {
   "cell_type": "code",
   "execution_count": 2,
   "id": "5c909a2a",
   "metadata": {},
   "outputs": [
    {
     "name": "stdout",
     "output_type": "stream",
     "text": [
      "u\n"
     ]
    }
   ],
   "source": [
    "name = \"chiku\"\n",
    "print(name[4])\n",
    "\n",
    "# name [3] = \"d\" ---> Does not work"
   ]
  },
  {
   "cell_type": "code",
   "execution_count": 6,
   "id": "1b9e3dce",
   "metadata": {},
   "outputs": [
    {
     "name": "stdout",
     "output_type": "stream",
     "text": [
      "hi\n",
      "chi\n",
      "ku\n"
     ]
    }
   ],
   "source": [
    "name = \"chiku\"\n",
    "print(name[1:3])  # here we are slicing the string.\n",
    "print(name[:3])   # here by default the index start with 0 and goes to 3.\n",
    "print(name[3:])   # here by default the index start with 3 and goes to end of string."
   ]
  },
  {
   "cell_type": "code",
   "execution_count": 13,
   "id": "0a011f60",
   "metadata": {},
   "outputs": [
    {
     "name": "stdout",
     "output_type": "stream",
     "text": [
      "hik\n"
     ]
    }
   ],
   "source": [
    "#Negative slicing the value.\n",
    "name = \"chiku\"\n",
    "print(name[-4:-1])  #The negative values start from last onwards.\n",
    "                    #Left hand side should be higher than right hand side\n",
    "                    #Then only it will cut.\n",
    "                    #The reason behind is u cant reverse this string and print."
   ]
  },
  {
   "cell_type": "code",
   "execution_count": 24,
   "id": "bcb482de",
   "metadata": {},
   "outputs": [
    {
     "name": "stdout",
     "output_type": "stream",
     "text": [
      "Ciusod\n"
     ]
    }
   ],
   "source": [
    "# Skipping the values\n",
    "name = \"ChikuIsGood\"\n",
    "print(name[0::2]) # here before colon means print from start and middle one means print till the end and right side means skip, skip from given number - 1."
   ]
  },
  {
   "cell_type": "code",
   "execution_count": null,
   "id": "f6c35fe5",
   "metadata": {},
   "outputs": [],
   "source": []
  },
  {
   "cell_type": "code",
   "execution_count": null,
   "id": "2ce893b3",
   "metadata": {},
   "outputs": [],
   "source": []
  }
 ],
 "metadata": {
  "kernelspec": {
   "display_name": "Python 3 (ipykernel)",
   "language": "python",
   "name": "python3"
  },
  "language_info": {
   "codemirror_mode": {
    "name": "ipython",
    "version": 3
   },
   "file_extension": ".py",
   "mimetype": "text/x-python",
   "name": "python",
   "nbconvert_exporter": "python",
   "pygments_lexer": "ipython3",
   "version": "3.9.7"
  }
 },
 "nbformat": 4,
 "nbformat_minor": 5
}
