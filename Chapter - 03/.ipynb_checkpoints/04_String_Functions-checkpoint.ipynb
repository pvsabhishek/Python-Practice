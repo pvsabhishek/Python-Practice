{
 "cells": [
  {
   "cell_type": "code",
   "execution_count": 12,
   "id": "a1c26c2c",
   "metadata": {},
   "outputs": [
    {
     "name": "stdout",
     "output_type": "stream",
     "text": [
      "92\n",
      "True\n",
      "2\n",
      "Once upon a time there was a youtuber named harry who uploaded python course with notes upon\n",
      "5\n",
      "once upon a time there was a youtuber named CodewithHarry who uploaded python course with notes upon\n"
     ]
    }
   ],
   "source": [
    "story = \"once upon a time there was a youtuber named harry who uploaded python course with notes upon\"\n",
    "\n",
    "#String Functions\n",
    "print(len(story))              # Tells the total number of length in variables.\n",
    "print(story.endswith(\"upon\"))  # Tells the wether string end with same variables or not. it indicates only true/false.\n",
    "print(story.count(\"c\"))        # Tells the number of count of a word or single char.\n",
    "print(story.capitalize())      # Makes the Capital letter from start point.\n",
    "print(story.find(\"upon\"))      # Tells the whether char or words is present or not if yes then tells the index of that word.\n",
    "                               # If the char or words repeats then it will show the first one. \n",
    "print(story.replace(\"harry\" , \"CodewithHarry\")) # here we are replacing the words with last ones."
   ]
  },
  {
   "cell_type": "code",
   "execution_count": null,
   "id": "ce2a05ef",
   "metadata": {},
   "outputs": [],
   "source": []
  }
 ],
 "metadata": {
  "kernelspec": {
   "display_name": "Python 3 (ipykernel)",
   "language": "python",
   "name": "python3"
  },
  "language_info": {
   "codemirror_mode": {
    "name": "ipython",
    "version": 3
   },
   "file_extension": ".py",
   "mimetype": "text/x-python",
   "name": "python",
   "nbconvert_exporter": "python",
   "pygments_lexer": "ipython3",
   "version": "3.9.7"
  }
 },
 "nbformat": 4,
 "nbformat_minor": 5
}
