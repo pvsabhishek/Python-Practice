{
 "cells": [
  {
   "cell_type": "code",
   "execution_count": 2,
   "id": "d3b027f7",
   "metadata": {},
   "outputs": [
    {
     "name": "stdout",
     "output_type": "stream",
     "text": [
      "<class 'int'> <class 'str'>\n"
     ]
    }
   ],
   "source": [
    "a = 25\n",
    "b = \"chiku\"\n",
    "print(type(a),type(b)) #--> checking type of varibles."
   ]
  },
  {
   "cell_type": "code",
   "execution_count": 5,
   "id": "4c3ffbad",
   "metadata": {},
   "outputs": [
    {
     "name": "stdout",
     "output_type": "stream",
     "text": [
      "Chiku\"s\n"
     ]
    }
   ],
   "source": [
    "b = \"Chiku's\"      # ----> use this if you have single quotes in your strings.\n",
    "b = 'chiku\"s'      # ----> use this if you have double quotes in your strings.\n",
    "b = '''Chiku\"s'''  # ----> use this if you have multiple quotes in your strings.\n",
    "print(b)"
   ]
  },
  {
   "cell_type": "markdown",
   "id": "2422f4f3",
   "metadata": {},
   "source": []
  }
 ],
 "metadata": {
  "kernelspec": {
   "display_name": "Python 3 (ipykernel)",
   "language": "python",
   "name": "python3"
  },
  "language_info": {
   "codemirror_mode": {
    "name": "ipython",
    "version": 3
   },
   "file_extension": ".py",
   "mimetype": "text/x-python",
   "name": "python",
   "nbconvert_exporter": "python",
   "pygments_lexer": "ipython3",
   "version": "3.9.7"
  }
 },
 "nbformat": 4,
 "nbformat_minor": 5
}
