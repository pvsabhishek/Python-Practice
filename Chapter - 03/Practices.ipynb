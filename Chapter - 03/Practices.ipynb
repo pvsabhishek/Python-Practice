{
 "cells": [
  {
   "cell_type": "markdown",
   "id": "ba74ae90",
   "metadata": {},
   "source": [
    "##### Q1. Write a program to display a user entered name followed by good Afternoon using input() function."
   ]
  },
  {
   "cell_type": "code",
   "execution_count": null,
   "id": "87a4f61c",
   "metadata": {},
   "outputs": [],
   "source": [
    "a = input()\n",
    "print(\"My name is Chiku \" + a)"
   ]
  },
  {
   "cell_type": "markdown",
   "id": "fec06f7d",
   "metadata": {},
   "source": [
    "##### Q2. write a program to fill in a letter template given below with name and date. "
   ]
  },
  {
   "cell_type": "code",
   "execution_count": null,
   "id": "580902cb",
   "metadata": {},
   "outputs": [],
   "source": [
    "print(\"Enter your name: \")\n",
    "a  = input()\n",
    "\n",
    "print(\"Enter your DOB: \")\n",
    "b  = input()\n",
    "print(\"hello, my name is \" + a + \" and my date of birth is \" + b)"
   ]
  },
  {
   "cell_type": "code",
   "execution_count": null,
   "id": "432b3642",
   "metadata": {},
   "outputs": [],
   "source": [
    "print(\"hello, my name is \" + input() + \" And my date of birth is \" + input())"
   ]
  },
  {
   "cell_type": "code",
   "execution_count": null,
   "id": "02a5aac3",
   "metadata": {},
   "outputs": [],
   "source": [
    "name = input()\n",
    "date = input()\n",
    "letter = ''' Dear + <%Name%> ,\n",
    "            you are selected!\n",
    "            <%date%>'''\n",
    "letter = letter.replace(\"<%Name%>\",name)\n",
    "letter = letter.replace(\"<%date%>\", date)\n",
    "print(letter)"
   ]
  },
  {
   "cell_type": "code",
   "execution_count": null,
   "id": "bafec9af",
   "metadata": {},
   "outputs": [],
   "source": []
  }
 ],
 "metadata": {
  "kernelspec": {
   "display_name": "Python 3 (ipykernel)",
   "language": "python",
   "name": "python3"
  },
  "language_info": {
   "codemirror_mode": {
    "name": "ipython",
    "version": 3
   },
   "file_extension": ".py",
   "mimetype": "text/x-python",
   "name": "python",
   "nbconvert_exporter": "python",
   "pygments_lexer": "ipython3",
   "version": "3.9.7"
  }
 },
 "nbformat": 4,
 "nbformat_minor": 5
}
